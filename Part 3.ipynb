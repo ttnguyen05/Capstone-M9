{
 "cells": [
  {
   "cell_type": "code",
   "execution_count": null,
   "metadata": {},
   "outputs": [],
   "source": [
    "import pandas as pd # Library for data analysis\n",
    "import\n",
    "import\n",
    "import\n",
    "requests # Library to handle requests\n",
    "\n",
    "numpy as np # Library to handle data in a vectorized manner\n",
    "folium # plotting Library\n",
    "from sklearn. cluster import KMeans # import k-means from clustering stage\n",
    "# BmpLotLib and associated plotting modules\n",
    "import matplotlib.cm as cm\n",
    "import matplotlib. colors as colors\n",
    "                \n"
   ]
  },
  {
   "cell_type": "code",
   "execution_count": 2,
   "metadata": {},
   "outputs": [],
   "source": [
    "CLIENT_ID = '' # your Foursquare ID\n",
    "\n",
    "CLIENT_SECRET = '' # your Foursquare Secret\n",
    "\n",
    "VERSION = '' # Foursquare API version\n",
    "\n",
    "LIMIT = 100 # Limit of number of venues returned by Foursquare API\n",
    "radius = 506 # define radius"
   ]
  },
  {
   "cell_type": "code",
   "execution_count": 5,
   "metadata": {},
   "outputs": [
    {
     "ename": "SyntaxError",
     "evalue": "invalid syntax (<ipython-input-5-fb1bc3d816ec>, line 1)",
     "output_type": "error",
     "traceback": [
      "\u001b[0;36m  File \u001b[0;32m\"<ipython-input-5-fb1bc3d816ec>\"\u001b[0;36m, line \u001b[0;32m1\u001b[0m\n\u001b[0;31m    getNearby_Venues(names, latitudes, longitudes, radius=500):\u001b[0m\n\u001b[0m                                                               ^\u001b[0m\n\u001b[0;31mSyntaxError\u001b[0m\u001b[0;31m:\u001b[0m invalid syntax\n"
     ]
    }
   ],
   "source": [
    "getNearbyVenues(names, latitudes, longitudes, radius=500):\n",
    "\n",
    "venues_list=[]\n",
    "for name, lat, Ing in zip(names, latitudes, longitudes):\n",
    "print(name)\n",
    "    # create the API request URL\n",
    "    url = 'https://api.foursquare.com/v2/venues/explore?&client_id={}&client_secret={}&v={}&ll={}, {}&radius={}&limit={}' .format(\n",
    "        CLIENT_ID,\n",
    "        CLIENT_SECRET,\n",
    "        VERSION,\n",
    "        lat,\n",
    "        Ing,\n",
    "        radius,\n",
    "        LIMIT)\n",
    "\n",
    "    # make the GET request\n",
    "    results = requests.get(url).json()[\"response\"][‘groups'][@]['items']\n",
    "\n",
    "    # return only relevant information for each nearby venue\n",
    "    venues_list.append([(\n",
    "\n",
    "        name,\n",
    "\n",
    "        lat,\n",
    "\n",
    "        Ing,\n",
    "\n",
    "        v[ venue‘ ][ 'name' ],\n",
    "\n",
    "        v[ ‘venue’ ]['location' ]['lat'],\n",
    "\n",
    "        v[ ‘venue’ ]['location' ]['1ng'],\n",
    "\n",
    "        v[ ‘venue’ ]['categories'][@]['name’]) for v in results])\n",
    "\n",
    "nearby _venues = pd.DataFrame({[item for venue_list in venues_list for item in venue_list])\n",
    "nearby _venues.columns = [ ‘Neighborhood’,\n",
    "\n",
    "        'Neighborhood Latitude’,\n",
    "\n",
    "        'Neighborhood Longitude’,\n",
    "\n",
    "        'Venue’,\n",
    "\n",
    "        'Venue Latitude’,\n",
    "\n",
    "        'Venue Longitude’,\n",
    "\n",
    "        'Venue Category' ]\n",
    "\n",
    "return(nearby_venues)"
   ]
  },
  {
   "cell_type": "code",
   "execution_count": null,
   "metadata": {},
   "outputs": [],
   "source": []
  }
 ],
 "metadata": {
  "kernelspec": {
   "display_name": "Python",
   "language": "python",
   "name": "conda-env-python-py"
  },
  "language_info": {
   "codemirror_mode": {
    "name": "ipython",
    "version": 3
   },
   "file_extension": ".py",
   "mimetype": "text/x-python",
   "name": "python",
   "nbconvert_exporter": "python",
   "pygments_lexer": "ipython3",
   "version": "3.6.12"
  }
 },
 "nbformat": 4,
 "nbformat_minor": 4
}
